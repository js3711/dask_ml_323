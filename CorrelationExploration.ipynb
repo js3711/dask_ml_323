{
 "cells": [
  {
   "cell_type": "code",
   "execution_count": 3,
   "metadata": {},
   "outputs": [],
   "source": [
    "import plotly.graph_objs as go\n",
    "import dask_ml.datasets as dask_datasets\n",
    "import sklearn.datasets as sk_datasets\n",
    "import dask.dataframe as dd"
   ]
  },
  {
   "cell_type": "code",
   "execution_count": 6,
   "metadata": {},
   "outputs": [],
   "source": [
    "def make_dataset_and_compute_correlation(func, **kwargs):\n",
    "    X, y = func(**kwargs) \n",
    "    ddf_features = dd.from_array(X)\n",
    "    \n",
    "    corr = ddf_features.corr().compute()\n",
    "    \n",
    "    return corr"
   ]
  },
  {
   "cell_type": "code",
   "execution_count": 8,
   "metadata": {},
   "outputs": [],
   "source": [
    "dask_corr = make_dataset_and_compute_correlation(dask_datasets.make_classification, \n",
    "                                                 n_samples=10000, n_informative=12, \n",
    "                                                 n_redundant=18, n_features=30, \n",
    "                                                 chunks=100)"
   ]
  },
  {
   "cell_type": "code",
   "execution_count": 9,
   "metadata": {},
   "outputs": [],
   "source": [
    "sk_corr = make_dataset_and_compute_correlation(sk_datasets.make_classification, \n",
    "                                               n_samples=10000, n_informative=12, \n",
    "                                               n_redundant=18, n_features=30)"
   ]
  },
  {
   "cell_type": "code",
   "execution_count": 16,
   "metadata": {},
   "outputs": [
    {
     "data": {
      "application/vnd.jupyter.widget-view+json": {
       "model_id": "641033de917a4bbebf4b4de0c865121a",
       "version_major": 2,
       "version_minor": 0
      },
      "text/plain": [
       "FigureWidget({\n",
       "    'data': [{'type': 'heatmap',\n",
       "              'uid': '8f7d3e4c-93ef-11e8-ad04-acde48001122',\n",
       " …"
      ]
     },
     "metadata": {},
     "output_type": "display_data"
    }
   ],
   "source": [
    "fig = go.FigureWidget()\n",
    "heat_map = fig.add_heatmap(z=dask_corr.values)\n",
    "fig.layout.title = 'Correlation Using dask-ml'\n",
    "fig.layout.xaxis.title = 'Features'\n",
    "fig.layout.yaxis.title = 'Features'\n",
    "fig.layout.width = 500\n",
    "fig.layout.height = 500\n",
    "fig"
   ]
  },
  {
   "cell_type": "code",
   "execution_count": 17,
   "metadata": {},
   "outputs": [
    {
     "data": {
      "application/vnd.jupyter.widget-view+json": {
       "model_id": "8c5b483bb5d544299a1ae8d6ccb69add",
       "version_major": 2,
       "version_minor": 0
      },
      "text/plain": [
       "FigureWidget({\n",
       "    'data': [{'type': 'heatmap',\n",
       "              'uid': '9654237a-93ef-11e8-a68d-acde48001122',\n",
       " …"
      ]
     },
     "metadata": {},
     "output_type": "display_data"
    }
   ],
   "source": [
    "fig = go.FigureWidget()\n",
    "heat_map = fig.add_heatmap(z=sk_corr.values)\n",
    "fig.layout.title = 'Correlation Using scikit-learn'\n",
    "fig.layout.xaxis.title = 'Features'\n",
    "fig.layout.yaxis.title = 'Features'\n",
    "fig.layout.width = 500\n",
    "fig.layout.height = 500\n",
    "fig"
   ]
  },
  {
   "cell_type": "code",
   "execution_count": 13,
   "metadata": {
    "scrolled": false
   },
   "outputs": [
    {
     "name": "stdout",
     "output_type": "stream",
     "text": [
      "# packages in environment at /Users/solinjp1/anaconda3/envs/correlation_exploration:\r\n",
      "#\r\n",
      "# Name                    Version                   Build  Channel\r\n",
      "appdirs                   1.4.3            py36h28b3542_0  \r\n",
      "appnope                   0.1.0            py36hf537a9a_0  \r\n",
      "asn1crypto                0.24.0                   py36_0  \r\n",
      "attrs                     18.1.0                   py36_0  \r\n",
      "automat                   0.7.0                    py36_0  \r\n",
      "backcall                  0.1.0                    py36_0  \r\n",
      "blas                      1.0                         mkl  \r\n",
      "bleach                    2.1.3                    py36_0  \r\n",
      "bokeh                     0.13.0                   py36_0  \r\n",
      "ca-certificates           2018.03.07                    0  \r\n",
      "cairo                     1.14.12              hc4e6be7_4  \r\n",
      "certifi                   2018.4.16                py36_0  \r\n",
      "cffi                      1.11.5           py36h342bebf_0  \r\n",
      "chardet                   3.0.4                     <pip>\r\n",
      "click                     6.7              py36hec950be_0  \r\n",
      "cloudpickle               0.5.3                    py36_0  \r\n",
      "constantly                15.1.0           py36h28b3542_0  \r\n",
      "cryptography              2.2.2            py36h1de35cc_0  \r\n",
      "cycler                    0.10.0           py36hfc81398_0  \r\n",
      "cytoolz                   0.9.0.1          py36h1de35cc_1  \r\n",
      "dask                      0.18.2                   py36_0  \r\n",
      "dask-core                 0.18.2                   py36_0  \r\n",
      "dask-glm                  0.1.0                    py36_0  \r\n",
      "dask-ml                   0.7.0            py36h1de35cc_0  \r\n",
      "dask-searchcv             0.2.0                    py36_0  \r\n",
      "decorator                 4.3.0                    py36_0  \r\n",
      "distributed               1.22.0                   py36_0  \r\n",
      "entrypoints               0.2.3                    py36_2  \r\n",
      "expat                     2.2.5                hb8e80ba_0  \r\n",
      "fontconfig                2.13.0               h5d5b041_1  \r\n",
      "freetype                  2.9.1                hb4e5f40_0  \r\n",
      "fribidi                   1.0.4                h1de35cc_0  \r\n",
      "gettext                   0.19.8.1             h15daf44_3  \r\n",
      "glib                      2.56.1               h35bc53a_0  \r\n",
      "graphite2                 1.3.11               h2098e52_2  \r\n",
      "graphviz                  2.40.1               hefbbd9a_2  \r\n",
      "harfbuzz                  1.7.6                hb8d4a28_3  \r\n",
      "heapdict                  1.0.0                    py36_2  \r\n",
      "html5lib                  1.0.1                    py36_0  \r\n",
      "hyperlink                 18.0.0                   py36_0  \r\n",
      "icu                       58.2                 h4b95b61_1  \r\n",
      "idna                      2.7                      py36_0  \r\n",
      "incremental               17.5.0                   py36_0  \r\n",
      "intel-openmp              2018.0.3                      0  \r\n",
      "ipykernel                 4.8.2                    py36_0  \r\n",
      "ipython                   6.4.0                    py36_1  \r\n",
      "ipython_genutils          0.2.0            py36h241746c_0  \r\n",
      "ipywidgets                7.3.0                    py36_0  \r\n",
      "jedi                      0.12.1                   py36_0  \r\n",
      "jinja2                    2.10                     py36_0  \r\n",
      "jpeg                      9b                   he5867d9_2  \r\n",
      "jsonschema                2.6.0            py36hb385e00_0  \r\n",
      "jupyter_client            5.2.3                    py36_0  \r\n",
      "jupyter_core              4.4.0                    py36_0  \r\n",
      "jupyterlab                0.32.1                   py36_0  \r\n",
      "jupyterlab_launcher       0.10.5                   py36_0  \r\n",
      "kiwisolver                1.0.1            py36h0a44026_0  \r\n",
      "libcxx                    4.0.1                h579ed51_0  \r\n",
      "libcxxabi                 4.0.1                hebd6815_0  \r\n",
      "libedit                   3.1.20170329         hb402a30_2  \r\n",
      "libffi                    3.2.1                h475c297_4  \r\n",
      "libgfortran               3.0.1                h93005f0_2  \r\n",
      "libiconv                  1.15                 hdd342a3_7  \r\n",
      "libpng                    1.6.34               he12f830_0  \r\n",
      "libsodium                 1.0.16               h3efe00b_0  \r\n",
      "libtiff                   4.0.9                hcb84e12_1  \r\n",
      "libxml2                   2.9.8                hab757c2_1  \r\n",
      "locket                    0.2.0            py36hca03003_1  \r\n",
      "markupsafe                1.0              py36h1de35cc_1  \r\n",
      "matplotlib                2.2.2            py36hbf02d85_2  \r\n",
      "mistune                   0.8.3            py36h1de35cc_1  \r\n",
      "mkl                       2018.0.3                      1  \r\n",
      "mkl_fft                   1.0.2            py36h6b9c3cc_0  \r\n",
      "mkl_random                1.0.1            py36h5d10147_1  \r\n",
      "msgpack-python            0.5.6            py36h04f5b5a_0  \r\n",
      "multipledispatch          0.5.0                    py36_0  \r\n",
      "nbconvert                 5.3.1                    py36_0  \r\n",
      "nbformat                  4.4.0            py36h827af21_0  \r\n",
      "ncurses                   6.1                  h0a44026_0  \r\n",
      "networkx                  2.1                      py36_0  \r\n",
      "notebook                  5.6.0                    py36_0  \r\n",
      "numpy                     1.14.5           py36h648b28d_4  \r\n",
      "numpy-base                1.14.5           py36ha9ae307_4  \r\n",
      "openssl                   1.0.2o               h26aff7b_0  \r\n",
      "packaging                 17.1                     py36_0  \r\n",
      "pandas                    0.23.3           py36h6440ff4_0  \r\n",
      "pandoc                    2.2.1                h1a437c5_0  \r\n",
      "pandocfilters             1.4.2                    py36_1  \r\n",
      "pango                     1.42.1               he2d0c7e_2  \r\n",
      "parso                     0.3.1                    py36_0  \r\n",
      "partd                     0.3.8            py36hf5c4cb8_0  \r\n",
      "pcre                      8.42                 h378b8a2_0  \r\n",
      "pexpect                   4.6.0                    py36_0  \r\n",
      "pickleshare               0.7.4            py36hf512f8e_0  \r\n",
      "pip                       10.0.1                   py36_0  \r\n",
      "pixman                    0.34.0               hca0a616_3  \r\n",
      "plotly                    3.0.0rc11                 <pip>\r\n",
      "prometheus_client         0.2.0                    py36_0  \r\n",
      "prompt_toolkit            1.0.15           py36haeda067_0  \r\n",
      "psutil                    5.4.6            py36h1de35cc_0  \r\n",
      "ptyprocess                0.6.0                    py36_0  \r\n",
      "pyasn1                    0.4.3                    py36_0  \r\n",
      "pyasn1-modules            0.2.2                    py36_0  \r\n",
      "pycparser                 2.18                     py36_1  \r\n",
      "pygments                  2.2.0            py36h240cd3f_0  \r\n",
      "pygraphviz                1.3              py36h1de35cc_1  \r\n",
      "pyopenssl                 18.0.0                   py36_0  \r\n",
      "pyparsing                 2.2.0                    py36_1  \r\n",
      "python                    3.6.6                hc167b69_0  \r\n",
      "python-dateutil           2.7.3                    py36_0  \r\n",
      "python.app                2                        py36_8  \r\n",
      "pytz                      2018.5                   py36_0  \r\n",
      "pyyaml                    3.13             py36h1de35cc_0  \r\n",
      "pyzmq                     17.0.0           py36h1de35cc_3  \r\n",
      "readline                  7.0                  hc1231fa_4  \r\n",
      "requests                  2.19.1                    <pip>\r\n",
      "retrying                  1.3.3                     <pip>\r\n",
      "scikit-learn              0.19.1           py36hf9f1f73_0  \r\n",
      "scipy                     1.1.0            py36hf1f7d93_0  \r\n",
      "send2trash                1.5.0                    py36_0  \r\n",
      "service_identity          17.0.0           py36h28b3542_0  \r\n",
      "setuptools                39.2.0                   py36_0  \r\n",
      "simplegeneric             0.8.1                    py36_2  \r\n",
      "six                       1.11.0                   py36_1  \r\n",
      "sortedcontainers          2.0.4                    py36_0  \r\n",
      "sqlite                    3.24.0               ha441bb4_0  \r\n",
      "tblib                     1.3.2            py36hda67792_0  \r\n",
      "terminado                 0.8.1                    py36_1  \r\n",
      "testpath                  0.3.1            py36h625a49b_0  \r\n",
      "tk                        8.6.7                h35a86e2_3  \r\n",
      "toolz                     0.9.0                    py36_0  \r\n",
      "tornado                   5.0.2            py36h1de35cc_0  \r\n",
      "traitlets                 4.3.2            py36h65bd3ce_0  \r\n",
      "twisted                   17.5.0                   py36_0  \r\n",
      "urllib3                   1.23                      <pip>\r\n",
      "wcwidth                   0.1.7            py36h8c6ec74_0  \r\n",
      "webencodings              0.5.1                    py36_1  \r\n",
      "wheel                     0.31.1                   py36_0  \r\n",
      "widgetsnbextension        3.3.0                    py36_0  \r\n",
      "xz                        5.2.4                h1de35cc_4  \r\n",
      "yaml                      0.1.7                hc338f04_2  \r\n",
      "zeromq                    4.2.5                h0a44026_0  \r\n",
      "zict                      0.1.3                    py36_0  \r\n",
      "zlib                      1.2.11               hf3cbc9b_2  \r\n",
      "zope                      1.0                      py36_0  \r\n",
      "zope.interface            4.5.0            py36h1de35cc_0  \r\n"
     ]
    }
   ],
   "source": [
    "!conda list"
   ]
  }
 ],
 "metadata": {
  "kernelspec": {
   "display_name": "Python 3",
   "language": "python",
   "name": "python3"
  },
  "language_info": {
   "codemirror_mode": {
    "name": "ipython",
    "version": 3
   },
   "file_extension": ".py",
   "mimetype": "text/x-python",
   "name": "python",
   "nbconvert_exporter": "python",
   "pygments_lexer": "ipython3",
   "version": "3.6.6"
  }
 },
 "nbformat": 4,
 "nbformat_minor": 2
}
